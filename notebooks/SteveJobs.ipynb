{
  "nbformat": 4,
  "nbformat_minor": 0,
  "metadata": {
    "kernelspec": {
      "language": "python",
      "display_name": "Python 3",
      "name": "python3"
    },
    "language_info": {
      "pygments_lexer": "ipython3",
      "nbconvert_exporter": "python",
      "version": "3.6.4",
      "file_extension": ".py",
      "codemirror_mode": {
        "name": "ipython",
        "version": 3
      },
      "name": "python",
      "mimetype": "text/x-python"
    },
    "colab": {
      "name": "SteveJobs.ipynb",
      "provenance": [],
      "collapsed_sections": []
    },
    "accelerator": "GPU"
  },
  "cells": [
    {
      "cell_type": "code",
      "metadata": {
        "id": "5-35gnQG8yoS"
      },
      "source": [
        "from google.colab import drive\n",
        "drive.mount('/gdrive')"
      ],
      "execution_count": null,
      "outputs": []
    },
    {
      "cell_type": "code",
      "metadata": {
        "id": "voCaRwS49Mol"
      },
      "source": [
        "# Set the path for training\n",
        "train_dir = 'splitDataset/train'\n",
        "# Set the path for validation\n",
        "val_dir = 'splitDataset/validation'"
      ],
      "execution_count": null,
      "outputs": []
    },
    {
      "cell_type": "code",
      "metadata": {
        "id": "YtgVmnvnaXEG"
      },
      "source": [
        "from keras.layers import Input, Lambda, Dense, Flatten\n",
        "from keras.models import Model\n",
        "from keras.applications.xception import preprocess_input\n",
        "from keras.preprocessing import image\n",
        "from keras.preprocessing.image import ImageDataGenerator\n",
        "from keras.models import Sequential\n",
        "from keras.optimizers import adam_v2\n",
        "\n",
        "import numpy as np\n",
        "from glob import glob\n",
        "import matplotlib.pyplot as plt\n",
        "import tensorflow.keras as tfk\n",
        "import tensorflow.keras.layers as tfkl\n",
        "import random\n",
        "import os\n",
        "import tensorflow as tf\n",
        "from PIL import Image\n",
        "import logging"
      ],
      "execution_count": null,
      "outputs": []
    },
    {
      "cell_type": "code",
      "metadata": {
        "execution": {
          "iopub.status.busy": "2021-11-23T08:05:58.520143Z",
          "iopub.status.idle": "2021-11-23T08:05:58.520623Z",
          "shell.execute_reply.started": "2021-11-23T08:05:58.520367Z",
          "shell.execute_reply": "2021-11-23T08:05:58.520393Z"
        },
        "trusted": true,
        "id": "6lD0cM0paOs_"
      },
      "source": [
        "# Random seed for reproducibility\n",
        "seed = 42\n",
        "\n",
        "random.seed(seed)\n",
        "os.environ['PYTHONHASHSEED'] = str(seed)\n",
        "np.random.seed(seed)\n",
        "tf.random.set_seed(seed)\n",
        "tf.compat.v1.set_random_seed(seed)"
      ],
      "execution_count": null,
      "outputs": []
    },
    {
      "cell_type": "code",
      "metadata": {
        "execution": {
          "iopub.status.busy": "2021-11-23T08:05:58.523263Z",
          "iopub.status.idle": "2021-11-23T08:05:58.52372Z",
          "shell.execute_reply.started": "2021-11-23T08:05:58.52347Z",
          "shell.execute_reply": "2021-11-23T08:05:58.523496Z"
        },
        "trusted": true,
        "id": "Q1YyHidfaOtA"
      },
      "source": [
        "# We create instances of ImageDataGenerator for preprocessing\n",
        "from tensorflow.keras.preprocessing.image import ImageDataGenerator\n",
        "\n",
        "# We are augmenting the data and preprocessed them with the Xception preprocessing function \n",
        "aug_train_data_gen = ImageDataGenerator( horizontal_flip=True,\n",
        "                                  rotation_range=90,\n",
        "                                  vertical_flip=True,\n",
        "                                  height_shift_range=0.3,\n",
        "                                  width_shift_range=0.3,\n",
        "                                  brightness_range=[0.7,1.3],\n",
        "                                  preprocessing_function=preprocess_input)\n",
        "\n",
        "noaug_val_data_gen = ImageDataGenerator(preprocessing_function=preprocess_input)\n",
        "\n",
        "# Generates the dataset for training \n",
        "aug_train_gen = aug_train_data_gen.flow_from_directory(directory=train_dir,\n",
        "                                                           target_size=(256,256),\n",
        "                                                           color_mode='rgb',\n",
        "                                                           classes=None,\n",
        "                                                           class_mode='categorical',\n",
        "                                                           batch_size=16,\n",
        "                                                           shuffle=True,\n",
        "                                                           seed=seed)\n",
        "\n",
        "# Generates the dataset for validation \n",
        "noaug_val_gen = noaug_val_data_gen.flow_from_directory(directory=val_dir,\n",
        "                                                           target_size=(256,256),\n",
        "                                                           color_mode='rgb',\n",
        "                                                           classes=None,\n",
        "                                                           class_mode='categorical',\n",
        "                                                           batch_size=16,\n",
        "                                                           shuffle=True,\n",
        "                                                           seed=seed)"
      ],
      "execution_count": null,
      "outputs": []
    },
    {
      "cell_type": "code",
      "metadata": {
        "execution": {
          "iopub.status.busy": "2021-11-22T17:35:07.568753Z",
          "iopub.execute_input": "2021-11-22T17:35:07.569057Z",
          "iopub.status.idle": "2021-11-22T17:35:07.574328Z",
          "shell.execute_reply.started": "2021-11-22T17:35:07.56902Z",
          "shell.execute_reply": "2021-11-22T17:35:07.573234Z"
        },
        "trusted": true,
        "id": "opsWxLT3aOtB"
      },
      "source": [
        "# Set input shape\n",
        "input_shape = (256, 256, 3)\n",
        "\n",
        "# Set the number of epochs for training\n",
        "epochs = 200"
      ],
      "execution_count": null,
      "outputs": []
    },
    {
      "cell_type": "code",
      "metadata": {
        "id": "-WprzYvsacoL"
      },
      "source": [
        "\n",
        "#Instantiates the Xception architecture\n",
        "base_model = tfk.applications.Xception(weights='imagenet',  # Load weights pre-trained on ImageNet.\n",
        "    input_shape=input_shape , include_top=False)\n",
        "base_model.trainable = False\n",
        "\n",
        "inputs = tfk.Input(shape=input_shape)\n",
        "\n",
        "# Instantiates the fully connected part\n",
        "x = base_model(inputs, training=False)\n",
        "x = tfk.layers.Flatten(name='Flattening')(x)\n",
        "x = tfkl.Dropout(0.3, seed=seed)(x)\n",
        "x = tfkl.Dense(256, activation='relu', kernel_initializer = tfk.initializers.GlorotUniform(seed))(x)\n",
        "classifier_layer = tfkl.Dropout(0.3, seed=seed)(x)\n",
        "output_layer = tfkl.Dense(units=14, activation='softmax', kernel_initializer=tfk.initializers.GlorotUniform(seed), name='Output')(x)\n",
        "\n",
        "# Istantiate the Model class\n",
        "model = tfk.Model(inputs, output_layer)\n",
        "\n",
        "# Compile the model\n",
        "model.compile(optimizer=tfk.optimizers.Adam(),\n",
        "              loss=tfk.losses.CategoricalCrossentropy(),\n",
        "              metrics=['accuracy',tfk.metrics.AUC(),tfk.metrics.Precision(),tfk.metrics.Recall()])\n",
        "\n",
        "# Return the model\n",
        "model.summary()"
      ],
      "execution_count": null,
      "outputs": []
    },
    {
      "cell_type": "code",
      "metadata": {
        "execution": {
          "iopub.status.busy": "2021-11-22T17:35:21.902661Z",
          "iopub.execute_input": "2021-11-22T17:35:21.903173Z",
          "iopub.status.idle": "2021-11-22T17:35:21.914815Z",
          "shell.execute_reply.started": "2021-11-22T17:35:21.903124Z",
          "shell.execute_reply": "2021-11-22T17:35:21.913811Z"
        },
        "trusted": true,
        "id": "0hpnVxAKaOtC"
      },
      "source": [
        "# Utility function to create folders and callbacks for training\n",
        "from datetime import datetime\n",
        "\n",
        "def create_folders_and_callbacks(model_name):\n",
        "\n",
        "  exps_dir = os.path.join('data_callbacks_experiments')\n",
        "  if not os.path.exists(exps_dir):\n",
        "      os.makedirs(exps_dir)\n",
        "\n",
        "  now = datetime.now().strftime('%b%d_%H-%M-%S')\n",
        "\n",
        "  exp_dir = os.path.join(exps_dir, model_name + '_' + str(now))\n",
        "  if not os.path.exists(exp_dir):\n",
        "      os.makedirs(exp_dir)\n",
        "      \n",
        "  callbacks = []\n",
        "\n",
        "  # Creation of model checkpoint\n",
        "  ckpt_dir = os.path.join(exp_dir, 'ckpts')\n",
        "  if not os.path.exists(ckpt_dir):\n",
        "      os.makedirs(ckpt_dir)\n",
        "\n",
        "  # Callback to save the model\n",
        "  ckpt_callback = tf.keras.callbacks.ModelCheckpoint(filepath=os.path.join(ckpt_dir, 'cp.ckpt'), \n",
        "                                                     save_weights_only=False, # True to save only weights\n",
        "                                                     save_best_only=False) # True to save only the best epoch \n",
        "  callbacks.append(ckpt_callback)\n",
        "\n",
        "  # Early Stopping\n",
        "  es_callback = tf.keras.callbacks.EarlyStopping(monitor='val_loss', patience=10, restore_best_weights=True)\n",
        "  callbacks.append(es_callback)\n",
        "\n",
        "  return callbacks"
      ],
      "execution_count": null,
      "outputs": []
    },
    {
      "cell_type": "code",
      "metadata": {
        "execution": {
          "iopub.status.busy": "2021-11-22T17:36:24.081557Z",
          "iopub.execute_input": "2021-11-22T17:36:24.08239Z",
          "iopub.status.idle": "2021-11-22T17:36:24.198344Z",
          "shell.execute_reply.started": "2021-11-22T17:36:24.082346Z",
          "shell.execute_reply": "2021-11-22T17:36:24.197286Z"
        },
        "trusted": true,
        "id": "5shQTcjTaOtE"
      },
      "source": [
        "# We will first train the Dense layers, so we are going to freeze the convolutional part\n",
        "for i, layer in enumerate(model.get_layer('xception').layers):\n",
        "  layer.trainable=False\n",
        "for i, layer in enumerate(model.get_layer('xception').layers):\n",
        "   print(i, layer.name, layer.trainable)\n",
        "model.summary()"
      ],
      "execution_count": null,
      "outputs": []
    },
    {
      "cell_type": "code",
      "metadata": {
        "execution": {
          "iopub.status.busy": "2021-11-22T17:40:27.711174Z",
          "iopub.execute_input": "2021-11-22T17:40:27.711496Z",
          "iopub.status.idle": "2021-11-22T17:46:12.534414Z",
          "shell.execute_reply.started": "2021-11-22T17:40:27.711462Z",
          "shell.execute_reply": "2021-11-22T17:46:12.531464Z"
        },
        "trusted": true,
        "id": "f9syxZivaOtF"
      },
      "source": [
        "# Create folders and callbacks and fit\n",
        "aug_callbacks = create_folders_and_callbacks(model_name='SteveJobs_transfL')\n",
        "\n",
        "# Train the model\n",
        "history = model.fit(\n",
        "    x = aug_train_gen,\n",
        "    epochs = epochs,\n",
        "    validation_data = noaug_val_gen,\n",
        "    callbacks = aug_callbacks,\n",
        "    initial_epoch = 55\n",
        ").history"
      ],
      "execution_count": null,
      "outputs": []
    },
    {
      "cell_type": "code",
      "metadata": {
        "id": "jrStDYN3aOtF"
      },
      "source": [
        "# Save the transfer learning model\n",
        "model.save(\"experiments/SteveJobs_transfL\")"
      ],
      "execution_count": null,
      "outputs": []
    },
    {
      "cell_type": "code",
      "metadata": {
        "id": "WiPr5n3TaOtF"
      },
      "source": [
        "model.get_layer('xception').trainable = True"
      ],
      "execution_count": null,
      "outputs": []
    },
    {
      "cell_type": "code",
      "metadata": {
        "id": "m4kfKdToaOtG"
      },
      "source": [
        "# we decide to freeze the first 126 layers and unfreeze the rest\n",
        "for i, layer in enumerate(model.get_layer('xception').layers[:126]):\n",
        "  layer.trainable=False\n",
        "for i, layer in enumerate(model.get_layer('xception').layers):\n",
        "   print(i, layer.name, layer.trainable)\n",
        "# Show the structure of the model\n",
        "model.summary()"
      ],
      "execution_count": null,
      "outputs": []
    },
    {
      "cell_type": "code",
      "metadata": {
        "id": "6IVL2Zek2kWR"
      },
      "source": [
        "# Create folders and callbacks\n",
        "aug_callbacks = create_folders_and_callbacks(model_name='SteveJobs_fineTuned')"
      ],
      "execution_count": null,
      "outputs": []
    },
    {
      "cell_type": "code",
      "metadata": {
        "id": "qgqW-tSdaOtG"
      },
      "source": [
        "# Train the model\n",
        "history = model.fit(\n",
        "    x = aug_train_gen,\n",
        "    epochs = epochs,\n",
        "    validation_data = noaug_val_gen,\n",
        "    callbacks = aug_callbacks).history"
      ],
      "execution_count": null,
      "outputs": []
    },
    {
      "cell_type": "code",
      "metadata": {
        "execution": {
          "iopub.status.busy": "2021-11-17T12:25:06.035099Z",
          "iopub.execute_input": "2021-11-17T12:25:06.035342Z",
          "iopub.status.idle": "2021-11-17T12:25:45.218233Z",
          "shell.execute_reply.started": "2021-11-17T12:25:06.035308Z",
          "shell.execute_reply": "2021-11-17T12:25:45.217516Z"
        },
        "trusted": true,
        "id": "q4JeufZRaOtG"
      },
      "source": [
        "# Save the fine tuned model\n",
        "model.save(\"experiments/SteveJobs_fineTuned\")"
      ],
      "execution_count": null,
      "outputs": []
    }
  ]
}